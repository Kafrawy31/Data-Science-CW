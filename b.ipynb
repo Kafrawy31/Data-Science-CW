{
 "cells": [
  {
   "cell_type": "code",
   "execution_count": 80,
   "id": "cda57b8e",
   "metadata": {},
   "outputs": [],
   "source": [
    "import pandas as pd\n",
    "import matplotlib.pyplot as plt\n",
    "\n",
    "import statsmodels.api as sm\n",
    "from statsmodels.formula.api import ols"
   ]
  },
  {
   "cell_type": "code",
   "execution_count": 81,
   "id": "8abe2f9a",
   "metadata": {},
   "outputs": [],
   "source": [
    "data = pd.read_csv(\"data_640_validated.csv\", encoding='cp1252', encoding_errors=\"ignore\")\n"
   ]
  },
  {
   "cell_type": "code",
   "execution_count": 82,
   "id": "18e95d0e",
   "metadata": {},
   "outputs": [],
   "source": [
    "#Only concerened with the socio-demographic profile and enviromental perception columns for task b\n",
    "\n",
    "columns_to_keep = ['A1_1', 'A1_2', 'A2', 'A3', 'A4', 'A5', 'A6', 'A7', 'A8', 'C1', 'C2', 'C3', 'C4', 'C5', 'C6', 'C7', 'C8', 'C9', 'C10', 'C11', 'C12', 'C13', 'C14', 'C15']\n",
    "\n",
    "data = data[columns_to_keep]"
   ]
  },
  {
   "cell_type": "code",
   "execution_count": 83,
   "id": "3898072a",
   "metadata": {},
   "outputs": [],
   "source": [
    "##BEFORE AVERAGING, MAKE SURE THAT REVERSE SCALE ARE REVERSED TO MAKE SURE THE AVERAGE ENVIROMENTAL PERCEPTION SCORE IS ACCURATE\n",
    "##E.G 5 STORNGLY AGREEING TO BELIEIVNG WE ARE REACHING THE LIMIT INDICATES HGIH ENVIROMENTAL PERCEPTION\n",
    "##### 1 sTRONGLY DISAGREEING TO BELIEVING HUMANS CAN CUT DOWN TREES FOR THIER OWN GOOD ALSO INDICATES HIGH ENVIORMENTAL PERCEPTION.\n",
    "\n",
    "\n",
    "def mirror_values(val):\n",
    "    # This function will 'mirror' the values as per the specified transformation\n",
    "    if val == 1:\n",
    "        return 5\n",
    "    elif val == 2:\n",
    "        return 4\n",
    "    elif val == 4:\n",
    "        return 2\n",
    "    elif val == 5:\n",
    "        return 1\n",
    "    else:\n",
    "        return val  # If the value is 3 or anything else, it stays the same\n",
    "\n",
    "# List of columns to apply the transformation\n",
    "columns_to_transform = ['C2', 'C4', 'C6', 'C8', 'C10', 'C12', 'C14']\n",
    "\n",
    "# Applying the transformation to each specified column\n",
    "for col in columns_to_transform:\n",
    "    data[col] = data[col].apply(mirror_values)"
   ]
  },
  {
   "cell_type": "code",
   "execution_count": 88,
   "id": "83384edb",
   "metadata": {},
   "outputs": [],
   "source": [
    "#One approach is to average all enviromental perception variable, to get an average\n",
    "\n",
    "env_perception_columns = ['C1', 'C2', 'C3', 'C4', 'C5', 'C6', 'C7', 'C8', 'C9', 'C10', 'C11', 'C12', 'C13', 'C14', 'C15']\n",
    "#env_perception_columns = ['C1', 'C3', 'C5', 'C7', 'C9', 'C11', 'C13',  'C15']\n",
    "\n",
    "data['avg_env_perception'] = data[env_perception_columns].mean(axis=1)"
   ]
  },
  {
   "cell_type": "code",
   "execution_count": null,
   "id": "8ff73910",
   "metadata": {},
   "outputs": [],
   "source": [
    "\"\"\"\n",
    "F-Score in ANOVA\n",
    "The F-score in ANOVA is a statistical measure used to determine whether there are any statistically significant differences between the means of various groups.\n",
    "\n",
    "Gender Example\n",
    "Imagine you conducted a study to see if there are differences in environmental perception scores between different genders. You have a dataset with a continuous variable (environmental perception scores) and a categorical variable (gender with categories like male, female, non-binary).\n",
    "\n",
    "How the F-Score is Calculated\n",
    "Between-Group Variability (Numerators):\n",
    "\n",
    "First, for each gender category, the average environmental perception score is calculated.\n",
    "Then, we see how much each group's mean deviates from the overall mean (regardless of gender).\n",
    "These deviations are squared, weighted by the number of observations in each gender category, and summed up. This gives the \"between-group sum of squares.\"\n",
    "Within-Group Variability (Denominators):\n",
    "\n",
    "Within each gender category, the deviation of each individual's score from their gender group's mean is calculated.\n",
    "These deviations are squared and summed up across all individuals and all gender groups. This gives the \"within-group sum of squares.\"\n",
    "The F-Score:\n",
    "\n",
    "The between-group sum of squares is divided by its degrees of freedom (number of groups minus one).\n",
    "The within-group sum of squares is divided by its degrees of freedom (total number of observations minus the number of groups).\n",
    "The F-score is the ratio of these two values (between-group variance to within-group variance).\n",
    "What the F-Score Tells You\n",
    "A high F-score suggests that the variability of group means (between males, females, non-binary individuals in this case) is larger than the variability within the groups. This could indicate that gender has a significant effect on environmental perception scores.\n",
    "A low F-score suggests that most variability in environmental perception scores is within the gender groups rather than between them, indicating that gender may not have a significant effect.\n",
    "\n",
    "\n",
    "\n",
    "\n",
    "\n",
    "P-Value in ANOVA\n",
    "The p-value in ANOVA is a statistical measure used to determine whether the differences observed between the means of various groups are statistically significant.\n",
    "\n",
    "Gender Example\n",
    "Continuing with your study on environmental perception scores across different genders (male, female, non-binary), after calculating the F-score in ANOVA, the next step is to interpret its significance, which is where the p-value comes in.\n",
    "\n",
    "Understanding the P-Value\n",
    "Statistical Significance:\n",
    "\n",
    "The p-value tells you the probability of observing an F-score as extreme as, or more extreme than, the one you calculated if the null hypothesis is true. In ANOVA, the null hypothesis typically states that all group means (across different genders in this case) are equal.\n",
    "Interpreting the P-Value:\n",
    "\n",
    "A small p-value (typically ≤ 0.05) suggests that the differences in group means are statistically significant. This would mean that it's unlikely the observed differences in environmental perception scores across genders happened by chance.\n",
    "A large p-value indicates that the differences in group means could be due to random chance, suggesting that gender may not have a significant effect on environmental perception scores.\n",
    "What the P-Value Tells You in the Gender Example\n",
    "If you get a low p-value (e.g., less than 0.05), it suggests that there are statistically significant differences in environmental perception scores between at least some of the gender groups.\n",
    "If the p-value is high, it suggests that any differences observed in environmental perception scores across gender groups are not statistically significant and could reasonably occur by random variation in a population where gender has no effect on perception scores.\n",
    "Important Consideration\n",
    "The p-value should be interpreted in the context of your study design, sample size, and other factors. For example, very large sample sizes can lead to very small p-values even for minor differences that might not be practically significant.\n",
    "\n",
    "\n",
    "\"\"\""
   ]
  },
  {
   "cell_type": "code",
   "execution_count": 89,
   "id": "6114cb20",
   "metadata": {
    "scrolled": false
   },
   "outputs": [
    {
     "name": "stdout",
     "output_type": "stream",
     "text": [
      "             sum_sq     df         F        PR(>F)\n",
      "C(A1_1)   50.692994  109.0  3.073798  1.358012e-17\n",
      "Residual  80.190332  530.0       NaN           NaN\n"
     ]
    }
   ],
   "source": [
    "##Nominal variables\n",
    "##A1.1\n",
    "##Nationality\n",
    "\n",
    "\n",
    "# Set up the ANOVA model\n",
    "model = ols('avg_env_perception ~ C(A1_1)', data=data).fit()\n",
    "\n",
    "# Perform the ANOVA\n",
    "anova_results = sm.stats.anova_lm(model, typ=2)\n",
    "print(anova_results)\n"
   ]
  },
  {
   "cell_type": "code",
   "execution_count": 90,
   "id": "62766a74",
   "metadata": {},
   "outputs": [
    {
     "name": "stdout",
     "output_type": "stream",
     "text": [
      "              sum_sq     df         F    PR(>F)\n",
      "C(A1_2)     0.756548    3.0  1.232553  0.296961\n",
      "Residual  130.126778  636.0       NaN       NaN\n"
     ]
    }
   ],
   "source": [
    "##Nominal variables\n",
    "##A1.2\n",
    "##Region\n",
    "\n",
    "\n",
    "# Set up the ANOVA model\n",
    "model = ols('avg_env_perception ~ C(A1_2)', data=data).fit()\n",
    "\n",
    "# Perform the ANOVA\n",
    "anova_results = sm.stats.anova_lm(model, typ=2)\n",
    "print(anova_results)\n"
   ]
  },
  {
   "cell_type": "code",
   "execution_count": 91,
   "id": "8fb5d8c2",
   "metadata": {},
   "outputs": [
    {
     "name": "stdout",
     "output_type": "stream",
     "text": [
      "              sum_sq     df          F        PR(>F)\n",
      "C(A2)       9.753581    1.0  51.372885  2.118717e-12\n",
      "Residual  121.129746  638.0        NaN           NaN\n"
     ]
    }
   ],
   "source": [
    "##Nominal variables\n",
    "##A2\n",
    "##Gender\n",
    "\n",
    "\n",
    "# Set up the ANOVA model\n",
    "model = ols('avg_env_perception ~ C(A2)', data=data).fit()\n",
    "\n",
    "# Perform the ANOVA\n",
    "anova_results = sm.stats.anova_lm(model, typ=2)\n",
    "print(anova_results)\n"
   ]
  },
  {
   "cell_type": "code",
   "execution_count": 92,
   "id": "bf08c074",
   "metadata": {},
   "outputs": [
    {
     "name": "stdout",
     "output_type": "stream",
     "text": [
      "              sum_sq     df         F    PR(>F)\n",
      "C(A3)       0.621204    4.0  0.757059  0.553519\n",
      "Residual  130.262123  635.0       NaN       NaN\n"
     ]
    }
   ],
   "source": [
    "##Ordinal variables\n",
    "##A3\n",
    "##Education level\n",
    "\n",
    "\n",
    "# Set up the ANOVA model\n",
    "model = ols('avg_env_perception ~ C(A3)', data=data).fit()\n",
    "\n",
    "# Perform the ANOVA\n",
    "anova_results = sm.stats.anova_lm(model, typ=2)\n",
    "print(anova_results)\n"
   ]
  },
  {
   "cell_type": "code",
   "execution_count": 98,
   "id": "41c5a662",
   "metadata": {},
   "outputs": [
    {
     "name": "stdout",
     "output_type": "stream",
     "text": [
      "              sum_sq     df         F    PR(>F)\n",
      "C(A4)       4.140652    3.0  6.925989  0.000136\n",
      "Residual  126.742674  636.0       NaN       NaN\n"
     ]
    }
   ],
   "source": [
    "##Nominal variables\n",
    "##A4\n",
    "##pet or garden at home\n",
    "\n",
    "\n",
    "# Set up the ANOVA model\n",
    "model = ols('avg_env_perception ~ C(A4)', data=data).fit()\n",
    "\n",
    "# Perform the ANOVA\n",
    "anova_results = sm.stats.anova_lm(model, typ=2)\n",
    "print(anova_results)"
   ]
  },
  {
   "cell_type": "code",
   "execution_count": 94,
   "id": "da7b2f3b",
   "metadata": {},
   "outputs": [
    {
     "name": "stdout",
     "output_type": "stream",
     "text": [
      "              sum_sq     df         F    PR(>F)\n",
      "C(A5)       8.916782   38.0  1.156267  0.243394\n",
      "Residual  121.966544  601.0       NaN       NaN\n"
     ]
    }
   ],
   "source": [
    "##Ordinal variables\n",
    "##A5\n",
    "##age\n",
    "##MIGHT NEED TO GROUP AGES TOGETHER\n",
    "\n",
    "# Set up the ANOVA model\n",
    "model = ols('avg_env_perception ~ C(A5)', data=data).fit()\n",
    "\n",
    "# Perform the ANOVA\n",
    "anova_results = sm.stats.anova_lm(model, typ=2)\n",
    "print(anova_results)\n"
   ]
  },
  {
   "cell_type": "code",
   "execution_count": 95,
   "id": "193cf8ae",
   "metadata": {},
   "outputs": [
    {
     "name": "stdout",
     "output_type": "stream",
     "text": [
      "              sum_sq     df        F    PR(>F)\n",
      "C(A6)       7.467654    6.0  6.38361  0.000002\n",
      "Residual  123.415672  633.0      NaN       NaN\n"
     ]
    }
   ],
   "source": [
    "##Nominal variables\n",
    "##A6\n",
    "##Ethnicity\n",
    "\n",
    "\n",
    "# Set up the ANOVA model\n",
    "model = ols('avg_env_perception ~ C(A6)', data=data).fit()\n",
    "\n",
    "# Perform the ANOVA\n",
    "anova_results = sm.stats.anova_lm(model, typ=2)\n",
    "print(anova_results)\n",
    "\n"
   ]
  },
  {
   "cell_type": "code",
   "execution_count": 96,
   "id": "c9de4327",
   "metadata": {},
   "outputs": [
    {
     "name": "stdout",
     "output_type": "stream",
     "text": [
      "              sum_sq     df         F    PR(>F)\n",
      "C(A7)       3.073790    4.0  3.817902  0.004469\n",
      "Residual  127.809536  635.0       NaN       NaN\n"
     ]
    }
   ],
   "source": [
    "##Nominal variables\n",
    "##A7\n",
    "##martial status\n",
    "\n",
    "\n",
    "# Set up the ANOVA model\n",
    "model = ols('avg_env_perception ~ C(A7)', data=data).fit()\n",
    "\n",
    "# Perform the ANOVA\n",
    "anova_results = sm.stats.anova_lm(model, typ=2)\n",
    "print(anova_results)"
   ]
  },
  {
   "cell_type": "code",
   "execution_count": 97,
   "id": "6cbe9021",
   "metadata": {},
   "outputs": [
    {
     "name": "stdout",
     "output_type": "stream",
     "text": [
      "              sum_sq     df         F    PR(>F)\n",
      "C(A8)       1.702159    8.0  1.039298  0.404797\n",
      "Residual  129.181167  631.0       NaN       NaN\n"
     ]
    }
   ],
   "source": [
    "##Nominal variables\n",
    "##A8\n",
    "##Employment status\n",
    "\n",
    "\n",
    "# Set up the ANOVA model\n",
    "model = ols('avg_env_perception ~ C(A8)', data=data).fit()\n",
    "\n",
    "# Perform the ANOVA\n",
    "anova_results = sm.stats.anova_lm(model, typ=2)\n",
    "print(anova_results)"
   ]
  }
 ],
 "metadata": {
  "kernelspec": {
   "display_name": "Python 3 (ipykernel)",
   "language": "python",
   "name": "python3"
  },
  "language_info": {
   "codemirror_mode": {
    "name": "ipython",
    "version": 3
   },
   "file_extension": ".py",
   "mimetype": "text/x-python",
   "name": "python",
   "nbconvert_exporter": "python",
   "pygments_lexer": "ipython3",
   "version": "3.9.7"
  }
 },
 "nbformat": 4,
 "nbformat_minor": 5
}
